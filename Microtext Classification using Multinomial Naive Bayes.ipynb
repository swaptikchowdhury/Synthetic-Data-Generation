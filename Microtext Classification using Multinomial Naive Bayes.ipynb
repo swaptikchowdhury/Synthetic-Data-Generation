{
  "nbformat": 4,
  "nbformat_minor": 0,
  "metadata": {
    "colab": {
      "provenance": []
    },
    "kernelspec": {
      "name": "python3",
      "display_name": "Python 3"
    },
    "language_info": {
      "name": "python"
    }
  },
  "cells": [
    {
      "cell_type": "code",
      "execution_count": 1,
      "metadata": {
        "colab": {
          "base_uri": "https://localhost:8080/"
        },
        "id": "xhYwtCNKTWcW",
        "outputId": "5c52589d-3082-492c-ceb1-a4a39b857354"
      },
      "outputs": [
        {
          "output_type": "stream",
          "name": "stdout",
          "text": [
            "Drive already mounted at /content/drive; to attempt to forcibly remount, call drive.mount(\"/content/drive\", force_remount=True).\n"
          ]
        }
      ],
      "source": [
        "from google.colab import drive\n",
        "drive.mount('/content/drive')"
      ]
    },
    {
      "cell_type": "code",
      "source": [
        "import os\n",
        "os.chdir(\"/content/drive/MyDrive/RIR 2022 Synthetic Data\") #changing working directory to google drive"
      ],
      "metadata": {
        "id": "F9EttyKCWFQ2"
      },
      "execution_count": 2,
      "outputs": []
    },
    {
      "cell_type": "code",
      "source": [
        "!pip install hyperopt\n",
        "!pip show hyperopt\n",
        "! git clone https://github.com/hyperopt/hyperopt-sklearn\n",
        "! cd hyperopt-sklearn/\n",
        "! pip install hyperopt-sklearn/\n",
        "! pip install hpsklearn\n",
        "! pip show hpsklearn\n",
        "os.chdir(\"/content/drive/MyDrive/RIR 2022 Synthetic Data\")"
      ],
      "metadata": {
        "colab": {
          "base_uri": "https://localhost:8080/"
        },
        "id": "M3GGZUchaqEV",
        "outputId": "cbb3489a-d2df-4102-9bfc-d4b091e82562"
      },
      "execution_count": 15,
      "outputs": [
        {
          "output_type": "stream",
          "name": "stdout",
          "text": [
            "Looking in indexes: https://pypi.org/simple, https://us-python.pkg.dev/colab-wheels/public/simple/\n",
            "Requirement already satisfied: hyperopt in /usr/local/lib/python3.9/dist-packages (0.2.7)\n",
            "Requirement already satisfied: tqdm in /usr/local/lib/python3.9/dist-packages (from hyperopt) (4.65.0)\n",
            "Requirement already satisfied: future in /usr/local/lib/python3.9/dist-packages (from hyperopt) (0.18.3)\n",
            "Requirement already satisfied: scipy in /usr/local/lib/python3.9/dist-packages (from hyperopt) (1.10.1)\n",
            "Requirement already satisfied: cloudpickle in /usr/local/lib/python3.9/dist-packages (from hyperopt) (2.2.1)\n",
            "Requirement already satisfied: py4j in /usr/local/lib/python3.9/dist-packages (from hyperopt) (0.10.9.7)\n",
            "Requirement already satisfied: networkx>=2.2 in /usr/local/lib/python3.9/dist-packages (from hyperopt) (3.0)\n",
            "Requirement already satisfied: six in /usr/local/lib/python3.9/dist-packages (from hyperopt) (1.16.0)\n",
            "Requirement already satisfied: numpy in /usr/local/lib/python3.9/dist-packages (from hyperopt) (1.22.4)\n",
            "Name: hyperopt\n",
            "Version: 0.2.7\n",
            "Summary: Distributed Asynchronous Hyperparameter Optimization\n",
            "Home-page: https://hyperopt.github.io/hyperopt\n",
            "Author: James Bergstra\n",
            "Author-email: james.bergstra@gmail.com\n",
            "License: BSD\n",
            "Location: /usr/local/lib/python3.9/dist-packages\n",
            "Requires: cloudpickle, future, networkx, numpy, py4j, scipy, six, tqdm\n",
            "Required-by: hpsklearn\n",
            "fatal: destination path 'hyperopt-sklearn' already exists and is not an empty directory.\n",
            "Looking in indexes: https://pypi.org/simple, https://us-python.pkg.dev/colab-wheels/public/simple/\n",
            "Processing ./hyperopt-sklearn\n",
            "  Installing build dependencies ... \u001b[?25l\u001b[?25hdone\n",
            "  Getting requirements to build wheel ... \u001b[?25l\u001b[?25hdone\n",
            "  Preparing metadata (pyproject.toml) ... \u001b[?25l\u001b[?25hdone\n",
            "Requirement already satisfied: numpy>=1.21.2 in /usr/local/lib/python3.9/dist-packages (from hpsklearn==1.0.3) (1.22.4)\n",
            "Requirement already satisfied: scikit-learn>=1.0 in /usr/local/lib/python3.9/dist-packages (from hpsklearn==1.0.3) (1.2.2)\n",
            "Requirement already satisfied: scipy>=1.7.1 in /usr/local/lib/python3.9/dist-packages (from hpsklearn==1.0.3) (1.10.1)\n",
            "Requirement already satisfied: hyperopt>=0.2.6 in /usr/local/lib/python3.9/dist-packages (from hpsklearn==1.0.3) (0.2.7)\n",
            "Requirement already satisfied: py4j in /usr/local/lib/python3.9/dist-packages (from hyperopt>=0.2.6->hpsklearn==1.0.3) (0.10.9.7)\n",
            "Requirement already satisfied: future in /usr/local/lib/python3.9/dist-packages (from hyperopt>=0.2.6->hpsklearn==1.0.3) (0.18.3)\n",
            "Requirement already satisfied: cloudpickle in /usr/local/lib/python3.9/dist-packages (from hyperopt>=0.2.6->hpsklearn==1.0.3) (2.2.1)\n",
            "Requirement already satisfied: six in /usr/local/lib/python3.9/dist-packages (from hyperopt>=0.2.6->hpsklearn==1.0.3) (1.16.0)\n",
            "Requirement already satisfied: networkx>=2.2 in /usr/local/lib/python3.9/dist-packages (from hyperopt>=0.2.6->hpsklearn==1.0.3) (3.0)\n",
            "Requirement already satisfied: tqdm in /usr/local/lib/python3.9/dist-packages (from hyperopt>=0.2.6->hpsklearn==1.0.3) (4.65.0)\n",
            "Requirement already satisfied: joblib>=1.1.1 in /usr/local/lib/python3.9/dist-packages (from scikit-learn>=1.0->hpsklearn==1.0.3) (1.1.1)\n",
            "Requirement already satisfied: threadpoolctl>=2.0.0 in /usr/local/lib/python3.9/dist-packages (from scikit-learn>=1.0->hpsklearn==1.0.3) (3.1.0)\n",
            "Building wheels for collected packages: hpsklearn\n",
            "  Building wheel for hpsklearn (pyproject.toml) ... \u001b[?25l\u001b[?25hdone\n",
            "  Created wheel for hpsklearn: filename=hpsklearn-1.0.3-py3-none-any.whl size=135027 sha256=d298bbf1f99d7cee6552fb1105781e9fad20ef97692d8fcbac59b5ee83fa5dec\n",
            "  Stored in directory: /root/.cache/pip/wheels/c1/ce/cc/ea0d4699151f920a62712681017779f540311886271bc6d6f7\n",
            "Successfully built hpsklearn\n",
            "Installing collected packages: hpsklearn\n",
            "  Attempting uninstall: hpsklearn\n",
            "    Found existing installation: hpsklearn 1.0.3\n",
            "    Uninstalling hpsklearn-1.0.3:\n",
            "      Successfully uninstalled hpsklearn-1.0.3\n",
            "Successfully installed hpsklearn-1.0.3\n",
            "Looking in indexes: https://pypi.org/simple, https://us-python.pkg.dev/colab-wheels/public/simple/\n",
            "Requirement already satisfied: hpsklearn in /usr/local/lib/python3.9/dist-packages (1.0.3)\n",
            "Requirement already satisfied: scipy>=1.7.1 in /usr/local/lib/python3.9/dist-packages (from hpsklearn) (1.10.1)\n",
            "Requirement already satisfied: scikit-learn>=1.0 in /usr/local/lib/python3.9/dist-packages (from hpsklearn) (1.2.2)\n",
            "Requirement already satisfied: numpy>=1.21.2 in /usr/local/lib/python3.9/dist-packages (from hpsklearn) (1.22.4)\n",
            "Requirement already satisfied: hyperopt>=0.2.6 in /usr/local/lib/python3.9/dist-packages (from hpsklearn) (0.2.7)\n",
            "Requirement already satisfied: cloudpickle in /usr/local/lib/python3.9/dist-packages (from hyperopt>=0.2.6->hpsklearn) (2.2.1)\n",
            "Requirement already satisfied: future in /usr/local/lib/python3.9/dist-packages (from hyperopt>=0.2.6->hpsklearn) (0.18.3)\n",
            "Requirement already satisfied: tqdm in /usr/local/lib/python3.9/dist-packages (from hyperopt>=0.2.6->hpsklearn) (4.65.0)\n",
            "Requirement already satisfied: networkx>=2.2 in /usr/local/lib/python3.9/dist-packages (from hyperopt>=0.2.6->hpsklearn) (3.0)\n",
            "Requirement already satisfied: py4j in /usr/local/lib/python3.9/dist-packages (from hyperopt>=0.2.6->hpsklearn) (0.10.9.7)\n",
            "Requirement already satisfied: six in /usr/local/lib/python3.9/dist-packages (from hyperopt>=0.2.6->hpsklearn) (1.16.0)\n",
            "Requirement already satisfied: joblib>=1.1.1 in /usr/local/lib/python3.9/dist-packages (from scikit-learn>=1.0->hpsklearn) (1.1.1)\n",
            "Requirement already satisfied: threadpoolctl>=2.0.0 in /usr/local/lib/python3.9/dist-packages (from scikit-learn>=1.0->hpsklearn) (3.1.0)\n",
            "Name: hpsklearn\n",
            "Version: 1.0.3\n",
            "Summary: Hyperparameter Optimization for sklearn\n",
            "Home-page: http://hyperopt.github.com/hyperopt-sklearn/\n",
            "Author: James Bergstra\n",
            "Author-email: anon@anon.com\n",
            "License: BSD\n",
            "Location: /usr/local/lib/python3.9/dist-packages\n",
            "Requires: hyperopt, numpy, scikit-learn, scipy\n",
            "Required-by: \n"
          ]
        }
      ]
    },
    {
      "cell_type": "code",
      "source": [
        "import pandas as pd\n",
        "import re\n",
        "import nltk\n",
        "nltk.download('stopwords')\n",
        "from nltk.stem.snowball import stopwords\n",
        "from nltk.tokenize import word_tokenize\n",
        "from nltk.stem import PorterStemmer\n",
        "nltk.download('punkt') # needed for apply function \n",
        "import numpy as np\n",
        "from sklearn.feature_extraction.text import CountVectorizer\n",
        "from sklearn.model_selection import train_test_split\n",
        "from sklearn import metrics\n",
        "import gensim\n",
        "import spacy\n",
        "from random import sample\n",
        "from hpsklearn import HyperoptEstimator, tfidf,multinomial_nb, sgd_classifier\n",
        "from hyperopt import tpe\n",
        "from hyperopt import hp\n",
        "from sklearn.feature_extraction.text import TfidfVectorizer\n",
        "from sklearn.naive_bayes import MultinomialNB\n",
        "from sklearn.metrics import classification_report, roc_auc_score, precision_recall_curve,average_precision_score"
      ],
      "metadata": {
        "colab": {
          "base_uri": "https://localhost:8080/"
        },
        "id": "TrZbs83WWF6e",
        "outputId": "3f0020b4-00b2-4930-817b-080d9e01efa9"
      },
      "execution_count": 18,
      "outputs": [
        {
          "output_type": "stream",
          "name": "stderr",
          "text": [
            "[nltk_data] Downloading package stopwords to /root/nltk_data...\n",
            "[nltk_data]   Package stopwords is already up-to-date!\n",
            "[nltk_data] Downloading package punkt to /root/nltk_data...\n",
            "[nltk_data]   Package punkt is already up-to-date!\n"
          ]
        }
      ]
    },
    {
      "cell_type": "markdown",
      "source": [
        "Loading the data and creating a learning dataset"
      ],
      "metadata": {
        "id": "cXYUKrHUWSF4"
      }
    },
    {
      "cell_type": "code",
      "source": [
        "df = pd.read_pickle(\"/content/drive/MyDrive/RIR 2022 Synthetic Data/538_Tweets_BertTopic_Labels.pkl\")\n",
        "df.head(2)"
      ],
      "metadata": {
        "colab": {
          "base_uri": "https://localhost:8080/",
          "height": 263
        },
        "id": "SbUnLzdrWOAZ",
        "outputId": "ef7a03f7-9543-4cfb-a183-71b94c11d111"
      },
      "execution_count": 4,
      "outputs": [
        {
          "output_type": "execute_result",
          "data": {
            "text/plain": [
              "   external_author_id        author  \\\n",
              "0        8.920000e+17    CELLSSTITR   \n",
              "1        8.980000e+17  CHIRRISMOGUI   \n",
              "\n",
              "                                             content         region language  \\\n",
              "0  #bakerBREAKING : New Demands for Team Obama to...        Unknown  English   \n",
              "1  Mad Max Just Got a BIG SURPRISE From Sheriff A...  United States  English   \n",
              "\n",
              "      publish_date   harvested_date  following  followers  updates post_type  \\\n",
              "0   8/4/2017 13:28   8/4/2017 13:29     1988.0      800.0    807.0       NaN   \n",
              "1  8/31/2017 17:51  8/31/2017 17:51     2948.0      817.0    318.0       NaN   \n",
              "\n",
              "  account_type  new_june_2018  retweet account_category  year  \\\n",
              "0        Right            0.0      0.0       RightTroll  2017   \n",
              "1        Right            0.0      0.0       RightTroll  2017   \n",
              "\n",
              "                                    normalized_tweet  label  \\\n",
              "0  #bakerBREAKING : New Demands for Team Obama to...      9   \n",
              "1  Mad Max Just Got a BIG SURPRISE From Sheriff A...     -1   \n",
              "\n",
              "                                 sentence_embeddings  label_prob  \n",
              "0  [-0.06477942, 0.023317883, 0.01677053, -0.0454...    0.862739  \n",
              "1  [-0.10880535, -0.074772716, -0.08157185, -0.04...    0.000000  "
            ],
            "text/html": [
              "\n",
              "  <div id=\"df-fbb9d198-cd1d-402d-993d-4d3612a42734\">\n",
              "    <div class=\"colab-df-container\">\n",
              "      <div>\n",
              "<style scoped>\n",
              "    .dataframe tbody tr th:only-of-type {\n",
              "        vertical-align: middle;\n",
              "    }\n",
              "\n",
              "    .dataframe tbody tr th {\n",
              "        vertical-align: top;\n",
              "    }\n",
              "\n",
              "    .dataframe thead th {\n",
              "        text-align: right;\n",
              "    }\n",
              "</style>\n",
              "<table border=\"1\" class=\"dataframe\">\n",
              "  <thead>\n",
              "    <tr style=\"text-align: right;\">\n",
              "      <th></th>\n",
              "      <th>external_author_id</th>\n",
              "      <th>author</th>\n",
              "      <th>content</th>\n",
              "      <th>region</th>\n",
              "      <th>language</th>\n",
              "      <th>publish_date</th>\n",
              "      <th>harvested_date</th>\n",
              "      <th>following</th>\n",
              "      <th>followers</th>\n",
              "      <th>updates</th>\n",
              "      <th>post_type</th>\n",
              "      <th>account_type</th>\n",
              "      <th>new_june_2018</th>\n",
              "      <th>retweet</th>\n",
              "      <th>account_category</th>\n",
              "      <th>year</th>\n",
              "      <th>normalized_tweet</th>\n",
              "      <th>label</th>\n",
              "      <th>sentence_embeddings</th>\n",
              "      <th>label_prob</th>\n",
              "    </tr>\n",
              "  </thead>\n",
              "  <tbody>\n",
              "    <tr>\n",
              "      <th>0</th>\n",
              "      <td>8.920000e+17</td>\n",
              "      <td>CELLSSTITR</td>\n",
              "      <td>#bakerBREAKING : New Demands for Team Obama to...</td>\n",
              "      <td>Unknown</td>\n",
              "      <td>English</td>\n",
              "      <td>8/4/2017 13:28</td>\n",
              "      <td>8/4/2017 13:29</td>\n",
              "      <td>1988.0</td>\n",
              "      <td>800.0</td>\n",
              "      <td>807.0</td>\n",
              "      <td>NaN</td>\n",
              "      <td>Right</td>\n",
              "      <td>0.0</td>\n",
              "      <td>0.0</td>\n",
              "      <td>RightTroll</td>\n",
              "      <td>2017</td>\n",
              "      <td>#bakerBREAKING : New Demands for Team Obama to...</td>\n",
              "      <td>9</td>\n",
              "      <td>[-0.06477942, 0.023317883, 0.01677053, -0.0454...</td>\n",
              "      <td>0.862739</td>\n",
              "    </tr>\n",
              "    <tr>\n",
              "      <th>1</th>\n",
              "      <td>8.980000e+17</td>\n",
              "      <td>CHIRRISMOGUI</td>\n",
              "      <td>Mad Max Just Got a BIG SURPRISE From Sheriff A...</td>\n",
              "      <td>United States</td>\n",
              "      <td>English</td>\n",
              "      <td>8/31/2017 17:51</td>\n",
              "      <td>8/31/2017 17:51</td>\n",
              "      <td>2948.0</td>\n",
              "      <td>817.0</td>\n",
              "      <td>318.0</td>\n",
              "      <td>NaN</td>\n",
              "      <td>Right</td>\n",
              "      <td>0.0</td>\n",
              "      <td>0.0</td>\n",
              "      <td>RightTroll</td>\n",
              "      <td>2017</td>\n",
              "      <td>Mad Max Just Got a BIG SURPRISE From Sheriff A...</td>\n",
              "      <td>-1</td>\n",
              "      <td>[-0.10880535, -0.074772716, -0.08157185, -0.04...</td>\n",
              "      <td>0.000000</td>\n",
              "    </tr>\n",
              "  </tbody>\n",
              "</table>\n",
              "</div>\n",
              "      <button class=\"colab-df-convert\" onclick=\"convertToInteractive('df-fbb9d198-cd1d-402d-993d-4d3612a42734')\"\n",
              "              title=\"Convert this dataframe to an interactive table.\"\n",
              "              style=\"display:none;\">\n",
              "        \n",
              "  <svg xmlns=\"http://www.w3.org/2000/svg\" height=\"24px\"viewBox=\"0 0 24 24\"\n",
              "       width=\"24px\">\n",
              "    <path d=\"M0 0h24v24H0V0z\" fill=\"none\"/>\n",
              "    <path d=\"M18.56 5.44l.94 2.06.94-2.06 2.06-.94-2.06-.94-.94-2.06-.94 2.06-2.06.94zm-11 1L8.5 8.5l.94-2.06 2.06-.94-2.06-.94L8.5 2.5l-.94 2.06-2.06.94zm10 10l.94 2.06.94-2.06 2.06-.94-2.06-.94-.94-2.06-.94 2.06-2.06.94z\"/><path d=\"M17.41 7.96l-1.37-1.37c-.4-.4-.92-.59-1.43-.59-.52 0-1.04.2-1.43.59L10.3 9.45l-7.72 7.72c-.78.78-.78 2.05 0 2.83L4 21.41c.39.39.9.59 1.41.59.51 0 1.02-.2 1.41-.59l7.78-7.78 2.81-2.81c.8-.78.8-2.07 0-2.86zM5.41 20L4 18.59l7.72-7.72 1.47 1.35L5.41 20z\"/>\n",
              "  </svg>\n",
              "      </button>\n",
              "      \n",
              "  <style>\n",
              "    .colab-df-container {\n",
              "      display:flex;\n",
              "      flex-wrap:wrap;\n",
              "      gap: 12px;\n",
              "    }\n",
              "\n",
              "    .colab-df-convert {\n",
              "      background-color: #E8F0FE;\n",
              "      border: none;\n",
              "      border-radius: 50%;\n",
              "      cursor: pointer;\n",
              "      display: none;\n",
              "      fill: #1967D2;\n",
              "      height: 32px;\n",
              "      padding: 0 0 0 0;\n",
              "      width: 32px;\n",
              "    }\n",
              "\n",
              "    .colab-df-convert:hover {\n",
              "      background-color: #E2EBFA;\n",
              "      box-shadow: 0px 1px 2px rgba(60, 64, 67, 0.3), 0px 1px 3px 1px rgba(60, 64, 67, 0.15);\n",
              "      fill: #174EA6;\n",
              "    }\n",
              "\n",
              "    [theme=dark] .colab-df-convert {\n",
              "      background-color: #3B4455;\n",
              "      fill: #D2E3FC;\n",
              "    }\n",
              "\n",
              "    [theme=dark] .colab-df-convert:hover {\n",
              "      background-color: #434B5C;\n",
              "      box-shadow: 0px 1px 3px 1px rgba(0, 0, 0, 0.15);\n",
              "      filter: drop-shadow(0px 1px 2px rgba(0, 0, 0, 0.3));\n",
              "      fill: #FFFFFF;\n",
              "    }\n",
              "  </style>\n",
              "\n",
              "      <script>\n",
              "        const buttonEl =\n",
              "          document.querySelector('#df-fbb9d198-cd1d-402d-993d-4d3612a42734 button.colab-df-convert');\n",
              "        buttonEl.style.display =\n",
              "          google.colab.kernel.accessAllowed ? 'block' : 'none';\n",
              "\n",
              "        async function convertToInteractive(key) {\n",
              "          const element = document.querySelector('#df-fbb9d198-cd1d-402d-993d-4d3612a42734');\n",
              "          const dataTable =\n",
              "            await google.colab.kernel.invokeFunction('convertToInteractive',\n",
              "                                                     [key], {});\n",
              "          if (!dataTable) return;\n",
              "\n",
              "          const docLinkHtml = 'Like what you see? Visit the ' +\n",
              "            '<a target=\"_blank\" href=https://colab.research.google.com/notebooks/data_table.ipynb>data table notebook</a>'\n",
              "            + ' to learn more about interactive tables.';\n",
              "          element.innerHTML = '';\n",
              "          dataTable['output_type'] = 'display_data';\n",
              "          await google.colab.output.renderOutput(dataTable, element);\n",
              "          const docLink = document.createElement('div');\n",
              "          docLink.innerHTML = docLinkHtml;\n",
              "          element.appendChild(docLink);\n",
              "        }\n",
              "      </script>\n",
              "    </div>\n",
              "  </div>\n",
              "  "
            ]
          },
          "metadata": {},
          "execution_count": 4
        }
      ]
    },
    {
      "cell_type": "code",
      "source": [
        "df_9= df[df['label'] == 9] # Selecting tweets label 9\n",
        "df_9[\"training label\"]= 1 # The label assignment\n",
        "df_9 = df_9[[\"training label\", \"content\"]]\n",
        "df_9.head(2)"
      ],
      "metadata": {
        "colab": {
          "base_uri": "https://localhost:8080/",
          "height": 220
        },
        "id": "RpvRkOjAXBh9",
        "outputId": "14eed37c-941b-4a51-f983-46f74bc525cd"
      },
      "execution_count": 5,
      "outputs": [
        {
          "output_type": "stream",
          "name": "stderr",
          "text": [
            "<ipython-input-5-efa25f10fee8>:2: SettingWithCopyWarning: \n",
            "A value is trying to be set on a copy of a slice from a DataFrame.\n",
            "Try using .loc[row_indexer,col_indexer] = value instead\n",
            "\n",
            "See the caveats in the documentation: https://pandas.pydata.org/pandas-docs/stable/user_guide/indexing.html#returning-a-view-versus-a-copy\n",
            "  df_9[\"training label\"]= 1 # The label assignment\n"
          ]
        },
        {
          "output_type": "execute_result",
          "data": {
            "text/plain": [
              "    training label                                            content\n",
              "0                1  #bakerBREAKING : New Demands for Team Obama to...\n",
              "73               1  Obama Exposed Securing $60 Million in Federal ..."
            ],
            "text/html": [
              "\n",
              "  <div id=\"df-92d8bbfc-51e5-4611-a6d8-d094d2e2273b\">\n",
              "    <div class=\"colab-df-container\">\n",
              "      <div>\n",
              "<style scoped>\n",
              "    .dataframe tbody tr th:only-of-type {\n",
              "        vertical-align: middle;\n",
              "    }\n",
              "\n",
              "    .dataframe tbody tr th {\n",
              "        vertical-align: top;\n",
              "    }\n",
              "\n",
              "    .dataframe thead th {\n",
              "        text-align: right;\n",
              "    }\n",
              "</style>\n",
              "<table border=\"1\" class=\"dataframe\">\n",
              "  <thead>\n",
              "    <tr style=\"text-align: right;\">\n",
              "      <th></th>\n",
              "      <th>training label</th>\n",
              "      <th>content</th>\n",
              "    </tr>\n",
              "  </thead>\n",
              "  <tbody>\n",
              "    <tr>\n",
              "      <th>0</th>\n",
              "      <td>1</td>\n",
              "      <td>#bakerBREAKING : New Demands for Team Obama to...</td>\n",
              "    </tr>\n",
              "    <tr>\n",
              "      <th>73</th>\n",
              "      <td>1</td>\n",
              "      <td>Obama Exposed Securing $60 Million in Federal ...</td>\n",
              "    </tr>\n",
              "  </tbody>\n",
              "</table>\n",
              "</div>\n",
              "      <button class=\"colab-df-convert\" onclick=\"convertToInteractive('df-92d8bbfc-51e5-4611-a6d8-d094d2e2273b')\"\n",
              "              title=\"Convert this dataframe to an interactive table.\"\n",
              "              style=\"display:none;\">\n",
              "        \n",
              "  <svg xmlns=\"http://www.w3.org/2000/svg\" height=\"24px\"viewBox=\"0 0 24 24\"\n",
              "       width=\"24px\">\n",
              "    <path d=\"M0 0h24v24H0V0z\" fill=\"none\"/>\n",
              "    <path d=\"M18.56 5.44l.94 2.06.94-2.06 2.06-.94-2.06-.94-.94-2.06-.94 2.06-2.06.94zm-11 1L8.5 8.5l.94-2.06 2.06-.94-2.06-.94L8.5 2.5l-.94 2.06-2.06.94zm10 10l.94 2.06.94-2.06 2.06-.94-2.06-.94-.94-2.06-.94 2.06-2.06.94z\"/><path d=\"M17.41 7.96l-1.37-1.37c-.4-.4-.92-.59-1.43-.59-.52 0-1.04.2-1.43.59L10.3 9.45l-7.72 7.72c-.78.78-.78 2.05 0 2.83L4 21.41c.39.39.9.59 1.41.59.51 0 1.02-.2 1.41-.59l7.78-7.78 2.81-2.81c.8-.78.8-2.07 0-2.86zM5.41 20L4 18.59l7.72-7.72 1.47 1.35L5.41 20z\"/>\n",
              "  </svg>\n",
              "      </button>\n",
              "      \n",
              "  <style>\n",
              "    .colab-df-container {\n",
              "      display:flex;\n",
              "      flex-wrap:wrap;\n",
              "      gap: 12px;\n",
              "    }\n",
              "\n",
              "    .colab-df-convert {\n",
              "      background-color: #E8F0FE;\n",
              "      border: none;\n",
              "      border-radius: 50%;\n",
              "      cursor: pointer;\n",
              "      display: none;\n",
              "      fill: #1967D2;\n",
              "      height: 32px;\n",
              "      padding: 0 0 0 0;\n",
              "      width: 32px;\n",
              "    }\n",
              "\n",
              "    .colab-df-convert:hover {\n",
              "      background-color: #E2EBFA;\n",
              "      box-shadow: 0px 1px 2px rgba(60, 64, 67, 0.3), 0px 1px 3px 1px rgba(60, 64, 67, 0.15);\n",
              "      fill: #174EA6;\n",
              "    }\n",
              "\n",
              "    [theme=dark] .colab-df-convert {\n",
              "      background-color: #3B4455;\n",
              "      fill: #D2E3FC;\n",
              "    }\n",
              "\n",
              "    [theme=dark] .colab-df-convert:hover {\n",
              "      background-color: #434B5C;\n",
              "      box-shadow: 0px 1px 3px 1px rgba(0, 0, 0, 0.15);\n",
              "      filter: drop-shadow(0px 1px 2px rgba(0, 0, 0, 0.3));\n",
              "      fill: #FFFFFF;\n",
              "    }\n",
              "  </style>\n",
              "\n",
              "      <script>\n",
              "        const buttonEl =\n",
              "          document.querySelector('#df-92d8bbfc-51e5-4611-a6d8-d094d2e2273b button.colab-df-convert');\n",
              "        buttonEl.style.display =\n",
              "          google.colab.kernel.accessAllowed ? 'block' : 'none';\n",
              "\n",
              "        async function convertToInteractive(key) {\n",
              "          const element = document.querySelector('#df-92d8bbfc-51e5-4611-a6d8-d094d2e2273b');\n",
              "          const dataTable =\n",
              "            await google.colab.kernel.invokeFunction('convertToInteractive',\n",
              "                                                     [key], {});\n",
              "          if (!dataTable) return;\n",
              "\n",
              "          const docLinkHtml = 'Like what you see? Visit the ' +\n",
              "            '<a target=\"_blank\" href=https://colab.research.google.com/notebooks/data_table.ipynb>data table notebook</a>'\n",
              "            + ' to learn more about interactive tables.';\n",
              "          element.innerHTML = '';\n",
              "          dataTable['output_type'] = 'display_data';\n",
              "          await google.colab.output.renderOutput(dataTable, element);\n",
              "          const docLink = document.createElement('div');\n",
              "          docLink.innerHTML = docLinkHtml;\n",
              "          element.appendChild(docLink);\n",
              "        }\n",
              "      </script>\n",
              "    </div>\n",
              "  </div>\n",
              "  "
            ]
          },
          "metadata": {},
          "execution_count": 5
        }
      ]
    },
    {
      "cell_type": "code",
      "source": [
        "df_khrys = pd.read_excel('twit2017.xlsx')\n",
        "df_khrys[\"training label\"]= 0 # The label assignment \n",
        "df_khrys = df_khrys[[\"training label\",\"fullText\"]]\n",
        "df_khrys = df_khrys.rename(columns={\"fullText\":\"content\"})"
      ],
      "metadata": {
        "id": "wCot6WNsZHAH"
      },
      "execution_count": 6,
      "outputs": []
    },
    {
      "cell_type": "code",
      "source": [
        "df_final=pd.concat([df_9,df_khrys], axis=0)\n",
        "df_final.head(2)"
      ],
      "metadata": {
        "colab": {
          "base_uri": "https://localhost:8080/",
          "height": 112
        },
        "id": "Q-GICZp2Z29w",
        "outputId": "b991aa71-aaa5-420a-ddaf-f01406859a89"
      },
      "execution_count": 7,
      "outputs": [
        {
          "output_type": "execute_result",
          "data": {
            "text/plain": [
              "    training label                                            content\n",
              "0                1  #bakerBREAKING : New Demands for Team Obama to...\n",
              "73               1  Obama Exposed Securing $60 Million in Federal ..."
            ],
            "text/html": [
              "\n",
              "  <div id=\"df-07cd974c-ce05-4b8b-8174-d6260b9f8bf2\">\n",
              "    <div class=\"colab-df-container\">\n",
              "      <div>\n",
              "<style scoped>\n",
              "    .dataframe tbody tr th:only-of-type {\n",
              "        vertical-align: middle;\n",
              "    }\n",
              "\n",
              "    .dataframe tbody tr th {\n",
              "        vertical-align: top;\n",
              "    }\n",
              "\n",
              "    .dataframe thead th {\n",
              "        text-align: right;\n",
              "    }\n",
              "</style>\n",
              "<table border=\"1\" class=\"dataframe\">\n",
              "  <thead>\n",
              "    <tr style=\"text-align: right;\">\n",
              "      <th></th>\n",
              "      <th>training label</th>\n",
              "      <th>content</th>\n",
              "    </tr>\n",
              "  </thead>\n",
              "  <tbody>\n",
              "    <tr>\n",
              "      <th>0</th>\n",
              "      <td>1</td>\n",
              "      <td>#bakerBREAKING : New Demands for Team Obama to...</td>\n",
              "    </tr>\n",
              "    <tr>\n",
              "      <th>73</th>\n",
              "      <td>1</td>\n",
              "      <td>Obama Exposed Securing $60 Million in Federal ...</td>\n",
              "    </tr>\n",
              "  </tbody>\n",
              "</table>\n",
              "</div>\n",
              "      <button class=\"colab-df-convert\" onclick=\"convertToInteractive('df-07cd974c-ce05-4b8b-8174-d6260b9f8bf2')\"\n",
              "              title=\"Convert this dataframe to an interactive table.\"\n",
              "              style=\"display:none;\">\n",
              "        \n",
              "  <svg xmlns=\"http://www.w3.org/2000/svg\" height=\"24px\"viewBox=\"0 0 24 24\"\n",
              "       width=\"24px\">\n",
              "    <path d=\"M0 0h24v24H0V0z\" fill=\"none\"/>\n",
              "    <path d=\"M18.56 5.44l.94 2.06.94-2.06 2.06-.94-2.06-.94-.94-2.06-.94 2.06-2.06.94zm-11 1L8.5 8.5l.94-2.06 2.06-.94-2.06-.94L8.5 2.5l-.94 2.06-2.06.94zm10 10l.94 2.06.94-2.06 2.06-.94-2.06-.94-.94-2.06-.94 2.06-2.06.94z\"/><path d=\"M17.41 7.96l-1.37-1.37c-.4-.4-.92-.59-1.43-.59-.52 0-1.04.2-1.43.59L10.3 9.45l-7.72 7.72c-.78.78-.78 2.05 0 2.83L4 21.41c.39.39.9.59 1.41.59.51 0 1.02-.2 1.41-.59l7.78-7.78 2.81-2.81c.8-.78.8-2.07 0-2.86zM5.41 20L4 18.59l7.72-7.72 1.47 1.35L5.41 20z\"/>\n",
              "  </svg>\n",
              "      </button>\n",
              "      \n",
              "  <style>\n",
              "    .colab-df-container {\n",
              "      display:flex;\n",
              "      flex-wrap:wrap;\n",
              "      gap: 12px;\n",
              "    }\n",
              "\n",
              "    .colab-df-convert {\n",
              "      background-color: #E8F0FE;\n",
              "      border: none;\n",
              "      border-radius: 50%;\n",
              "      cursor: pointer;\n",
              "      display: none;\n",
              "      fill: #1967D2;\n",
              "      height: 32px;\n",
              "      padding: 0 0 0 0;\n",
              "      width: 32px;\n",
              "    }\n",
              "\n",
              "    .colab-df-convert:hover {\n",
              "      background-color: #E2EBFA;\n",
              "      box-shadow: 0px 1px 2px rgba(60, 64, 67, 0.3), 0px 1px 3px 1px rgba(60, 64, 67, 0.15);\n",
              "      fill: #174EA6;\n",
              "    }\n",
              "\n",
              "    [theme=dark] .colab-df-convert {\n",
              "      background-color: #3B4455;\n",
              "      fill: #D2E3FC;\n",
              "    }\n",
              "\n",
              "    [theme=dark] .colab-df-convert:hover {\n",
              "      background-color: #434B5C;\n",
              "      box-shadow: 0px 1px 3px 1px rgba(0, 0, 0, 0.15);\n",
              "      filter: drop-shadow(0px 1px 2px rgba(0, 0, 0, 0.3));\n",
              "      fill: #FFFFFF;\n",
              "    }\n",
              "  </style>\n",
              "\n",
              "      <script>\n",
              "        const buttonEl =\n",
              "          document.querySelector('#df-07cd974c-ce05-4b8b-8174-d6260b9f8bf2 button.colab-df-convert');\n",
              "        buttonEl.style.display =\n",
              "          google.colab.kernel.accessAllowed ? 'block' : 'none';\n",
              "\n",
              "        async function convertToInteractive(key) {\n",
              "          const element = document.querySelector('#df-07cd974c-ce05-4b8b-8174-d6260b9f8bf2');\n",
              "          const dataTable =\n",
              "            await google.colab.kernel.invokeFunction('convertToInteractive',\n",
              "                                                     [key], {});\n",
              "          if (!dataTable) return;\n",
              "\n",
              "          const docLinkHtml = 'Like what you see? Visit the ' +\n",
              "            '<a target=\"_blank\" href=https://colab.research.google.com/notebooks/data_table.ipynb>data table notebook</a>'\n",
              "            + ' to learn more about interactive tables.';\n",
              "          element.innerHTML = '';\n",
              "          dataTable['output_type'] = 'display_data';\n",
              "          await google.colab.output.renderOutput(dataTable, element);\n",
              "          const docLink = document.createElement('div');\n",
              "          docLink.innerHTML = docLinkHtml;\n",
              "          element.appendChild(docLink);\n",
              "        }\n",
              "      </script>\n",
              "    </div>\n",
              "  </div>\n",
              "  "
            ]
          },
          "metadata": {},
          "execution_count": 7
        }
      ]
    },
    {
      "cell_type": "markdown",
      "source": [
        "Preprocessing Text Data"
      ],
      "metadata": {
        "id": "NOoOI5haZ7-H"
      }
    },
    {
      "cell_type": "code",
      "source": [
        "# remove the hashtags, mentions and unwanted characters.\n",
        "def remove_content(text):\n",
        "    text = re.sub(r'(https|http)?:\\/\\/(\\w|\\.|\\/|\\?|\\=|\\&|\\%)*\\b', '', text, flags=re.MULTILINE) # To Remove http, https and the other normal url type special characters\n",
        "    text=re.sub(r'\\S+\\.com\\S+','',text) #remove urls.\"\" mean no space or nothing\n",
        "    text=re.sub(r'\\@\\w+','',text) #remove mentions\n",
        "    text =re.sub(r'\\#\\w+','',text) #remove hashtags\n",
        "    text =re.sub(r\"^RT\\s+\",'',text) #remove rt's. re.sub() used to replace substrings; Syntax: re.sub(pattern,replacement,string) & will replace the matches in string with repl.\n",
        "    return text"
      ],
      "metadata": {
        "id": "i9hKBUkWZ_Rz"
      },
      "execution_count": 8,
      "outputs": []
    },
    {
      "cell_type": "code",
      "source": [
        "def process_text(text, stem= False): #clean text\n",
        "    text=remove_content(text)\n",
        "    text = re.sub('[^A-Za-z0-9]', ' ', text.lower()) #remove non-alphabets(?); lower is method applied to string text; matching each word in text-replacing with lower version\n",
        "    tokenized_text = word_tokenize(text) #tokenize\n",
        "    clean_text = [\n",
        "         word for word in tokenized_text\n",
        "         if word not in stopwords.words(\"english\")\n",
        "    ]\n",
        "    if stem:\n",
        "        stemmer = PorterStemmer() # initializig a poterstemmer object\n",
        "        clean_text=[stemmer.stem(word) for word in clean_text]\n",
        "    return ' '.join(clean_text) \n",
        "    #return clean_text"
      ],
      "metadata": {
        "id": "XhUd-8PHaDo-"
      },
      "execution_count": 9,
      "outputs": []
    },
    {
      "cell_type": "code",
      "source": [
        "df_final[\"processed\"] = df_final['content'].apply(lambda x: process_text(x, False))\n",
        "df_final.head(2)"
      ],
      "metadata": {
        "colab": {
          "base_uri": "https://localhost:8080/",
          "height": 112
        },
        "id": "uC9DXpZCaSlR",
        "outputId": "6c007987-d12f-482e-9d60-77118892cc03"
      },
      "execution_count": 10,
      "outputs": [
        {
          "output_type": "execute_result",
          "data": {
            "text/plain": [
              "    training label                                            content  \\\n",
              "0                1  #bakerBREAKING : New Demands for Team Obama to...   \n",
              "73               1  Obama Exposed Securing $60 Million in Federal ...   \n",
              "\n",
              "                                            processed  \n",
              "0   new demands team obama face criminal investiga...  \n",
              "73  obama exposed securing 60 million federal cont...  "
            ],
            "text/html": [
              "\n",
              "  <div id=\"df-02ebe585-82a2-46d5-895d-4de14aa80f69\">\n",
              "    <div class=\"colab-df-container\">\n",
              "      <div>\n",
              "<style scoped>\n",
              "    .dataframe tbody tr th:only-of-type {\n",
              "        vertical-align: middle;\n",
              "    }\n",
              "\n",
              "    .dataframe tbody tr th {\n",
              "        vertical-align: top;\n",
              "    }\n",
              "\n",
              "    .dataframe thead th {\n",
              "        text-align: right;\n",
              "    }\n",
              "</style>\n",
              "<table border=\"1\" class=\"dataframe\">\n",
              "  <thead>\n",
              "    <tr style=\"text-align: right;\">\n",
              "      <th></th>\n",
              "      <th>training label</th>\n",
              "      <th>content</th>\n",
              "      <th>processed</th>\n",
              "    </tr>\n",
              "  </thead>\n",
              "  <tbody>\n",
              "    <tr>\n",
              "      <th>0</th>\n",
              "      <td>1</td>\n",
              "      <td>#bakerBREAKING : New Demands for Team Obama to...</td>\n",
              "      <td>new demands team obama face criminal investiga...</td>\n",
              "    </tr>\n",
              "    <tr>\n",
              "      <th>73</th>\n",
              "      <td>1</td>\n",
              "      <td>Obama Exposed Securing $60 Million in Federal ...</td>\n",
              "      <td>obama exposed securing 60 million federal cont...</td>\n",
              "    </tr>\n",
              "  </tbody>\n",
              "</table>\n",
              "</div>\n",
              "      <button class=\"colab-df-convert\" onclick=\"convertToInteractive('df-02ebe585-82a2-46d5-895d-4de14aa80f69')\"\n",
              "              title=\"Convert this dataframe to an interactive table.\"\n",
              "              style=\"display:none;\">\n",
              "        \n",
              "  <svg xmlns=\"http://www.w3.org/2000/svg\" height=\"24px\"viewBox=\"0 0 24 24\"\n",
              "       width=\"24px\">\n",
              "    <path d=\"M0 0h24v24H0V0z\" fill=\"none\"/>\n",
              "    <path d=\"M18.56 5.44l.94 2.06.94-2.06 2.06-.94-2.06-.94-.94-2.06-.94 2.06-2.06.94zm-11 1L8.5 8.5l.94-2.06 2.06-.94-2.06-.94L8.5 2.5l-.94 2.06-2.06.94zm10 10l.94 2.06.94-2.06 2.06-.94-2.06-.94-.94-2.06-.94 2.06-2.06.94z\"/><path d=\"M17.41 7.96l-1.37-1.37c-.4-.4-.92-.59-1.43-.59-.52 0-1.04.2-1.43.59L10.3 9.45l-7.72 7.72c-.78.78-.78 2.05 0 2.83L4 21.41c.39.39.9.59 1.41.59.51 0 1.02-.2 1.41-.59l7.78-7.78 2.81-2.81c.8-.78.8-2.07 0-2.86zM5.41 20L4 18.59l7.72-7.72 1.47 1.35L5.41 20z\"/>\n",
              "  </svg>\n",
              "      </button>\n",
              "      \n",
              "  <style>\n",
              "    .colab-df-container {\n",
              "      display:flex;\n",
              "      flex-wrap:wrap;\n",
              "      gap: 12px;\n",
              "    }\n",
              "\n",
              "    .colab-df-convert {\n",
              "      background-color: #E8F0FE;\n",
              "      border: none;\n",
              "      border-radius: 50%;\n",
              "      cursor: pointer;\n",
              "      display: none;\n",
              "      fill: #1967D2;\n",
              "      height: 32px;\n",
              "      padding: 0 0 0 0;\n",
              "      width: 32px;\n",
              "    }\n",
              "\n",
              "    .colab-df-convert:hover {\n",
              "      background-color: #E2EBFA;\n",
              "      box-shadow: 0px 1px 2px rgba(60, 64, 67, 0.3), 0px 1px 3px 1px rgba(60, 64, 67, 0.15);\n",
              "      fill: #174EA6;\n",
              "    }\n",
              "\n",
              "    [theme=dark] .colab-df-convert {\n",
              "      background-color: #3B4455;\n",
              "      fill: #D2E3FC;\n",
              "    }\n",
              "\n",
              "    [theme=dark] .colab-df-convert:hover {\n",
              "      background-color: #434B5C;\n",
              "      box-shadow: 0px 1px 3px 1px rgba(0, 0, 0, 0.15);\n",
              "      filter: drop-shadow(0px 1px 2px rgba(0, 0, 0, 0.3));\n",
              "      fill: #FFFFFF;\n",
              "    }\n",
              "  </style>\n",
              "\n",
              "      <script>\n",
              "        const buttonEl =\n",
              "          document.querySelector('#df-02ebe585-82a2-46d5-895d-4de14aa80f69 button.colab-df-convert');\n",
              "        buttonEl.style.display =\n",
              "          google.colab.kernel.accessAllowed ? 'block' : 'none';\n",
              "\n",
              "        async function convertToInteractive(key) {\n",
              "          const element = document.querySelector('#df-02ebe585-82a2-46d5-895d-4de14aa80f69');\n",
              "          const dataTable =\n",
              "            await google.colab.kernel.invokeFunction('convertToInteractive',\n",
              "                                                     [key], {});\n",
              "          if (!dataTable) return;\n",
              "\n",
              "          const docLinkHtml = 'Like what you see? Visit the ' +\n",
              "            '<a target=\"_blank\" href=https://colab.research.google.com/notebooks/data_table.ipynb>data table notebook</a>'\n",
              "            + ' to learn more about interactive tables.';\n",
              "          element.innerHTML = '';\n",
              "          dataTable['output_type'] = 'display_data';\n",
              "          await google.colab.output.renderOutput(dataTable, element);\n",
              "          const docLink = document.createElement('div');\n",
              "          docLink.innerHTML = docLinkHtml;\n",
              "          element.appendChild(docLink);\n",
              "        }\n",
              "      </script>\n",
              "    </div>\n",
              "  </div>\n",
              "  "
            ]
          },
          "metadata": {},
          "execution_count": 10
        }
      ]
    },
    {
      "cell_type": "markdown",
      "source": [
        "Preparing dataset for hyperopt optimization "
      ],
      "metadata": {
        "id": "g4hFANN7aeFy"
      }
    },
    {
      "cell_type": "code",
      "source": [
        "X = df_final.processed\n",
        "y = df_final[\"training label\"]"
      ],
      "metadata": {
        "id": "nxRn4zTfaYnB"
      },
      "execution_count": 11,
      "outputs": []
    },
    {
      "cell_type": "code",
      "source": [
        "X_train1, X_test1, y_train1, y_test1 = train_test_split(X, y, test_size=0.33, random_state=42)# Note I used the data directly from the dataframe"
      ],
      "metadata": {
        "id": "FY88jhfsbcFp"
      },
      "execution_count": 12,
      "outputs": []
    },
    {
      "cell_type": "code",
      "source": [
        "#clf = hp.pchoice(\"swa\",[multinomial_nb(\"multinomial\")]) # Other classifiers can be added. Refer to https://hyperopt.github.io/hyperopt-sklearn/ for list \n",
        "# Defining the search\n",
        "estim = HyperoptEstimator(classifier=multinomial_nb(\"multi\"), preprocessing=[tfidf(\"tfidf\",max_features=10000)],algo=tpe.suggest, max_evals=50, trial_timeout=60)\n",
        "#performing the search\n",
        "estim.fit(X_train1, y_train1)"
      ],
      "metadata": {
        "colab": {
          "base_uri": "https://localhost:8080/"
        },
        "id": "uStEIH_cbfLu",
        "outputId": "ef0359f0-c0f9-4894-fe0d-7a1af5d93a0a"
      },
      "execution_count": 13,
      "outputs": [
        {
          "output_type": "stream",
          "name": "stdout",
          "text": [
            "\r  0%|          | 0/1 [00:00<?, ?trial/s, best loss=?]"
          ]
        },
        {
          "output_type": "stream",
          "name": "stderr",
          "text": [
            "/usr/local/lib/python3.9/dist-packages/sklearn/feature_extraction/text.py:550: UserWarning: The parameter 'stop_words' will not be used since 'analyzer' != 'word'\n",
            "  warnings.warn(\n",
            "\n"
          ]
        },
        {
          "output_type": "stream",
          "name": "stdout",
          "text": [
            "100%|██████████| 1/1 [00:01<00:00,  1.07s/trial, best loss: 0.10434782608695647]\n",
            " 50%|█████     | 1/2 [00:00<?, ?trial/s, best loss=?]"
          ]
        },
        {
          "output_type": "stream",
          "name": "stderr",
          "text": [
            "/usr/local/lib/python3.9/dist-packages/sklearn/feature_extraction/text.py:550: UserWarning: The parameter 'stop_words' will not be used since 'analyzer' != 'word'\n",
            "  warnings.warn(\n",
            "\n"
          ]
        },
        {
          "output_type": "stream",
          "name": "stdout",
          "text": [
            "100%|██████████| 2/2 [00:01<00:00,  1.23s/trial, best loss: 0.1032608695652174]\n",
            "100%|██████████| 3/3 [00:00<00:00,  1.53trial/s, best loss: 0.047826086956521685]\n",
            " 75%|███████▌  | 3/4 [00:00<?, ?trial/s, best loss=?]"
          ]
        },
        {
          "output_type": "stream",
          "name": "stderr",
          "text": [
            "/usr/local/lib/python3.9/dist-packages/sklearn/feature_extraction/text.py:550: UserWarning: The parameter 'stop_words' will not be used since 'analyzer' != 'word'\n",
            "  warnings.warn(\n",
            "\n"
          ]
        },
        {
          "output_type": "stream",
          "name": "stdout",
          "text": [
            "100%|██████████| 4/4 [00:02<00:00,  2.44s/trial, best loss: 0.047826086956521685]\n",
            "100%|██████████| 5/5 [00:00<00:00,  1.27trial/s, best loss: 0.047826086956521685]\n",
            " 83%|████████▎ | 5/6 [00:00<?, ?trial/s, best loss=?]"
          ]
        },
        {
          "output_type": "stream",
          "name": "stderr",
          "text": [
            "/usr/local/lib/python3.9/dist-packages/sklearn/feature_extraction/text.py:550: UserWarning: The parameter 'stop_words' will not be used since 'analyzer' != 'word'\n",
            "  warnings.warn(\n",
            "\n"
          ]
        },
        {
          "output_type": "stream",
          "name": "stdout",
          "text": [
            "100%|██████████| 6/6 [00:08<00:00,  8.63s/trial, best loss: 0.04239130434782612]\n",
            "100%|██████████| 7/7 [00:00<00:00,  1.59trial/s, best loss: 0.04239130434782612]\n",
            "100%|██████████| 8/8 [00:00<00:00,  1.00trial/s, best loss: 0.04239130434782612]\n",
            "100%|██████████| 9/9 [00:01<00:00,  1.00s/trial, best loss: 0.04239130434782612]\n",
            " 90%|█████████ | 9/10 [00:00<?, ?trial/s, best loss=?]"
          ]
        },
        {
          "output_type": "stream",
          "name": "stderr",
          "text": [
            "/usr/local/lib/python3.9/dist-packages/sklearn/feature_extraction/text.py:550: UserWarning: The parameter 'stop_words' will not be used since 'analyzer' != 'word'\n",
            "  warnings.warn(\n",
            "\n"
          ]
        },
        {
          "output_type": "stream",
          "name": "stdout",
          "text": [
            "100%|██████████| 10/10 [00:00<00:00,  2.01trial/s, best loss: 0.04239130434782612]\n",
            "100%|██████████| 11/11 [00:00<00:00,  1.26trial/s, best loss: 0.04239130434782612]\n",
            " 92%|█████████▏| 11/12 [00:00<?, ?trial/s, best loss=?]"
          ]
        },
        {
          "output_type": "stream",
          "name": "stderr",
          "text": [
            "/usr/local/lib/python3.9/dist-packages/sklearn/feature_extraction/text.py:550: UserWarning: The parameter 'stop_words' will not be used since 'analyzer' != 'word'\n",
            "  warnings.warn(\n",
            "\n"
          ]
        },
        {
          "output_type": "stream",
          "name": "stdout",
          "text": [
            "100%|██████████| 12/12 [00:01<00:00,  1.21s/trial, best loss: 0.04239130434782612]\n",
            "100%|██████████| 13/13 [00:00<00:00,  2.40trial/s, best loss: 0.04239130434782612]\n",
            " 93%|█████████▎| 13/14 [00:00<?, ?trial/s, best loss=?]"
          ]
        },
        {
          "output_type": "stream",
          "name": "stderr",
          "text": [
            "/usr/local/lib/python3.9/dist-packages/sklearn/feature_extraction/text.py:550: UserWarning: The parameter 'stop_words' will not be used since 'analyzer' != 'word'\n",
            "  warnings.warn(\n",
            "\n"
          ]
        },
        {
          "output_type": "stream",
          "name": "stdout",
          "text": [
            "100%|██████████| 14/14 [00:00<00:00,  1.21trial/s, best loss: 0.04239130434782612]\n",
            " 93%|█████████▎| 14/15 [00:00<?, ?trial/s, best loss=?]"
          ]
        },
        {
          "output_type": "stream",
          "name": "stderr",
          "text": [
            "/usr/local/lib/python3.9/dist-packages/sklearn/feature_extraction/text.py:550: UserWarning: The parameter 'stop_words' will not be used since 'analyzer' != 'word'\n",
            "  warnings.warn(\n",
            "\n"
          ]
        },
        {
          "output_type": "stream",
          "name": "stdout",
          "text": [
            "100%|██████████| 15/15 [00:02<00:00,  2.00s/trial, best loss: 0.04239130434782612]\n",
            "100%|██████████| 16/16 [00:02<00:00,  2.20s/trial, best loss: 0.04239130434782612]\n",
            "100%|██████████| 17/17 [00:00<00:00,  2.32trial/s, best loss: 0.04239130434782612]\n",
            " 94%|█████████▍| 17/18 [00:00<?, ?trial/s, best loss=?]"
          ]
        },
        {
          "output_type": "stream",
          "name": "stderr",
          "text": [
            "/usr/local/lib/python3.9/dist-packages/sklearn/feature_extraction/text.py:550: UserWarning: The parameter 'stop_words' will not be used since 'analyzer' != 'word'\n",
            "  warnings.warn(\n",
            "\n"
          ]
        },
        {
          "output_type": "stream",
          "name": "stdout",
          "text": [
            "100%|██████████| 18/18 [00:01<00:00,  1.29s/trial, best loss: 0.04239130434782612]\n",
            "100%|██████████| 19/19 [00:00<00:00,  1.79trial/s, best loss: 0.04239130434782612]\n",
            " 95%|█████████▌| 19/20 [00:00<?, ?trial/s, best loss=?]"
          ]
        },
        {
          "output_type": "stream",
          "name": "stderr",
          "text": [
            "/usr/local/lib/python3.9/dist-packages/sklearn/feature_extraction/text.py:550: UserWarning: The parameter 'stop_words' will not be used since 'analyzer' != 'word'\n",
            "  warnings.warn(\n",
            "\n"
          ]
        },
        {
          "output_type": "stream",
          "name": "stdout",
          "text": [
            "100%|██████████| 20/20 [00:01<00:00,  1.04s/trial, best loss: 0.04239130434782612]\n",
            "100%|██████████| 21/21 [00:00<00:00,  1.52trial/s, best loss: 0.04239130434782612]\n",
            "100%|██████████| 22/22 [00:00<00:00,  1.52trial/s, best loss: 0.04239130434782612]\n",
            "100%|██████████| 23/23 [00:00<00:00,  1.52trial/s, best loss: 0.04021739130434787]\n",
            " 96%|█████████▌| 23/24 [00:00<?, ?trial/s, best loss=?]"
          ]
        },
        {
          "output_type": "stream",
          "name": "stderr",
          "text": [
            "/usr/local/lib/python3.9/dist-packages/sklearn/feature_extraction/text.py:550: UserWarning: The parameter 'stop_words' will not be used since 'analyzer' != 'word'\n",
            "  warnings.warn(\n",
            "\n"
          ]
        },
        {
          "output_type": "stream",
          "name": "stdout",
          "text": [
            "100%|██████████| 24/24 [00:01<00:00,  1.87s/trial, best loss: 0.04021739130434787]\n",
            " 96%|█████████▌| 24/25 [00:00<?, ?trial/s, best loss=?]"
          ]
        },
        {
          "output_type": "stream",
          "name": "stderr",
          "text": [
            "/usr/local/lib/python3.9/dist-packages/sklearn/feature_extraction/text.py:550: UserWarning: The parameter 'stop_words' will not be used since 'analyzer' != 'word'\n",
            "  warnings.warn(\n",
            "\n"
          ]
        },
        {
          "output_type": "stream",
          "name": "stdout",
          "text": [
            "100%|██████████| 25/25 [00:02<00:00,  2.84s/trial, best loss: 0.04021739130434787]\n",
            "100%|██████████| 26/26 [00:01<00:00,  1.22s/trial, best loss: 0.023913043478260843]\n",
            "100%|██████████| 27/27 [00:01<00:00,  1.07s/trial, best loss: 0.023913043478260843]\n",
            "100%|██████████| 28/28 [00:01<00:00,  1.07s/trial, best loss: 0.023913043478260843]\n",
            "100%|██████████| 29/29 [00:01<00:00,  1.06s/trial, best loss: 0.023913043478260843]\n",
            "100%|██████████| 30/30 [00:01<00:00,  1.09s/trial, best loss: 0.023913043478260843]\n",
            "100%|██████████| 31/31 [00:00<00:00,  1.21trial/s, best loss: 0.023913043478260843]\n",
            "100%|██████████| 32/32 [00:00<00:00,  1.83trial/s, best loss: 0.023913043478260843]\n",
            "100%|██████████| 33/33 [00:00<00:00,  1.78trial/s, best loss: 0.023913043478260843]\n",
            "100%|██████████| 34/34 [00:00<00:00,  1.23trial/s, best loss: 0.023913043478260843]\n",
            "100%|██████████| 35/35 [00:00<00:00,  1.15trial/s, best loss: 0.023913043478260843]\n",
            "100%|██████████| 36/36 [00:00<00:00,  1.47trial/s, best loss: 0.023913043478260843]\n",
            "100%|██████████| 37/37 [00:00<00:00,  1.47trial/s, best loss: 0.023913043478260843]\n",
            "100%|██████████| 38/38 [00:00<00:00,  1.41trial/s, best loss: 0.023913043478260843]\n",
            "100%|██████████| 39/39 [00:00<00:00,  2.45trial/s, best loss: 0.023913043478260843]\n",
            "100%|██████████| 40/40 [00:00<00:00,  1.65trial/s, best loss: 0.023913043478260843]\n",
            "100%|██████████| 41/41 [00:00<00:00,  2.30trial/s, best loss: 0.023913043478260843]\n",
            " 98%|█████████▊| 41/42 [00:00<?, ?trial/s, best loss=?]"
          ]
        },
        {
          "output_type": "stream",
          "name": "stderr",
          "text": [
            "/usr/local/lib/python3.9/dist-packages/sklearn/feature_extraction/text.py:550: UserWarning: The parameter 'stop_words' will not be used since 'analyzer' != 'word'\n",
            "  warnings.warn(\n",
            "\n"
          ]
        },
        {
          "output_type": "stream",
          "name": "stdout",
          "text": [
            "100%|██████████| 42/42 [00:01<00:00,  1.02s/trial, best loss: 0.023913043478260843]\n",
            "100%|██████████| 43/43 [00:00<00:00,  1.41trial/s, best loss: 0.023913043478260843]\n",
            "100%|██████████| 44/44 [00:00<00:00,  1.47trial/s, best loss: 0.023913043478260843]\n",
            " 98%|█████████▊| 44/45 [00:00<?, ?trial/s, best loss=?]"
          ]
        },
        {
          "output_type": "stream",
          "name": "stderr",
          "text": [
            "/usr/local/lib/python3.9/dist-packages/sklearn/feature_extraction/text.py:550: UserWarning: The parameter 'stop_words' will not be used since 'analyzer' != 'word'\n",
            "  warnings.warn(\n",
            "\n"
          ]
        },
        {
          "output_type": "stream",
          "name": "stdout",
          "text": [
            "100%|██████████| 45/45 [00:00<00:00,  3.38trial/s, best loss: 0.023913043478260843]\n",
            "100%|██████████| 46/46 [00:01<00:00,  1.00s/trial, best loss: 0.023913043478260843]\n",
            "100%|██████████| 47/47 [00:00<00:00,  1.13trial/s, best loss: 0.023913043478260843]\n",
            "100%|██████████| 48/48 [00:01<00:00,  1.17s/trial, best loss: 0.023913043478260843]\n",
            " 98%|█████████▊| 48/49 [00:00<?, ?trial/s, best loss=?]"
          ]
        },
        {
          "output_type": "stream",
          "name": "stderr",
          "text": [
            "/usr/local/lib/python3.9/dist-packages/sklearn/feature_extraction/text.py:550: UserWarning: The parameter 'stop_words' will not be used since 'analyzer' != 'word'\n",
            "  warnings.warn(\n",
            "\n"
          ]
        },
        {
          "output_type": "stream",
          "name": "stdout",
          "text": [
            "100%|██████████| 49/49 [00:03<00:00,  3.52s/trial, best loss: 0.023913043478260843]\n",
            " 98%|█████████▊| 49/50 [00:00<?, ?trial/s, best loss=?]"
          ]
        },
        {
          "output_type": "stream",
          "name": "stderr",
          "text": [
            "/usr/local/lib/python3.9/dist-packages/sklearn/feature_extraction/text.py:550: UserWarning: The parameter 'stop_words' will not be used since 'analyzer' != 'word'\n",
            "  warnings.warn(\n",
            "\n"
          ]
        },
        {
          "output_type": "stream",
          "name": "stdout",
          "text": [
            "100%|██████████| 50/50 [00:01<00:00,  1.86s/trial, best loss: 0.023913043478260843]\n"
          ]
        }
      ]
    },
    {
      "cell_type": "code",
      "source": [
        "#At the end of the run, the best-performing model can be evaluated on new data by calling the score() function\n",
        "print(estim.score(X_test1,y_test1))\n",
        "print(estim.best_model())"
      ],
      "metadata": {
        "colab": {
          "base_uri": "https://localhost:8080/"
        },
        "id": "f6Ca_X8yb-sb",
        "outputId": "3c6909e0-95f8-496d-e9ed-262ec4653d12"
      },
      "execution_count": 14,
      "outputs": [
        {
          "output_type": "stream",
          "name": "stdout",
          "text": [
            "0.9567137809187279\n",
            "{'learner': MultinomialNB(alpha=0.741), 'preprocs': (TfidfVectorizer(binary=True, max_features=10000, ngram_range=(1, 4), norm=None,\n",
            "                smooth_idf=False, stop_words='english', use_idf=False),), 'ex_preprocs': ()}\n"
          ]
        }
      ]
    },
    {
      "cell_type": "markdown",
      "source": [
        "Using the hyper parameter identified by hyperopt for running a multinomial Naive Bayes and tfidf vectorizer"
      ],
      "metadata": {
        "id": "qOK6-o9_c4rl"
      }
    },
    {
      "cell_type": "code",
      "source": [
        "# Transform features\n",
        "X = df_final.processed\n",
        "vectorizer = TfidfVectorizer(max_features=10000, ngram_range=(1, 3))\n",
        "#max_features reduces the dimensionality build a vocabulary that only consider the top max_features ordered by term frequency across the corpus\n",
        "X_tfidf = vectorizer.fit_transform(X)"
      ],
      "metadata": {
        "id": "hR2hIAj5dEN6"
      },
      "execution_count": 16,
      "outputs": []
    },
    {
      "cell_type": "code",
      "source": [
        "X_train, X_test, y_train, y_test = train_test_split(X_tfidf, y, test_size=0.33, random_state=42)"
      ],
      "metadata": {
        "id": "XefTiBbfdkz1"
      },
      "execution_count": 17,
      "outputs": []
    },
    {
      "cell_type": "code",
      "source": [
        "model = MultinomialNB(alpha=0.862)\n",
        "model.fit (X_train, y_train) \n",
        "y_pred = model.predict(X_test)\n",
        "print(classification_report(y_test, y_pred))\n",
        "print(\"The Area Under the Receiver Operating Characteristic Curve (ROC AUC) from the prediction score is:\", roc_auc_score(y_test, y_pred))\n",
        "print(\"The average precision (precision-recall curve)\", average_precision_score(y_test, y_pred))"
      ],
      "metadata": {
        "colab": {
          "base_uri": "https://localhost:8080/"
        },
        "id": "3LeJxlZ4dvBt",
        "outputId": "9f8bd2aa-a3de-4280-b80d-3275461388e9"
      },
      "execution_count": 19,
      "outputs": [
        {
          "output_type": "stream",
          "name": "stdout",
          "text": [
            "              precision    recall  f1-score   support\n",
            "\n",
            "           0       0.91      0.99      0.95      1628\n",
            "           1       0.97      0.74      0.84       636\n",
            "\n",
            "    accuracy                           0.92      2264\n",
            "   macro avg       0.94      0.87      0.90      2264\n",
            "weighted avg       0.93      0.92      0.92      2264\n",
            "\n",
            "The Area Under the Receiver Operating Characteristic Curve (ROC AUC) from the prediction score is: 0.867076553397308\n",
            "The average precision (precision-recall curve) 0.7946841587835523\n"
          ]
        }
      ]
    },
    {
      "cell_type": "code",
      "source": [
        "from sklearn.metrics import auc\n",
        "# Data to plot precision - recall curve\n",
        "precision, recall, thresholds = precision_recall_curve(y_test, y_pred)\n",
        "# Use AUC function to calculate the area under the curve of precision recall curve\n",
        "auc_precision_recall = auc(recall, precision)\n",
        "print(auc_precision_recall)\n",
        "import matplotlib.pyplot as plt\n",
        "plt.plot(recall,precision)\n",
        "plt.show()\n"
      ],
      "metadata": {
        "colab": {
          "base_uri": "https://localhost:8080/",
          "height": 448
        },
        "id": "08ubSJt9d8TD",
        "outputId": "c15dbeef-450c-477d-c5c0-26aa80131ad3"
      },
      "execution_count": 20,
      "outputs": [
        {
          "output_type": "stream",
          "name": "stdout",
          "text": [
            "0.8938862018063518\n"
          ]
        },
        {
          "output_type": "display_data",
          "data": {
            "text/plain": [
              "<Figure size 640x480 with 1 Axes>"
            ],
            "image/png": "[encoded data removed]"
          },
          "metadata": {}
        }
      ]
    },
    {
      "cell_type": "code",
      "source": [
        "no_features_during_fitting = model.n_features_in_ #10000. For checking the number of features."
      ],
      "metadata": {
        "id": "GlsI2fbVd_uf"
      },
      "execution_count": 21,
      "outputs": []
    }
  ]
}